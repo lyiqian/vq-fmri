{
 "cells": [
  {
   "cell_type": "code",
   "execution_count": 1,
   "metadata": {},
   "outputs": [],
   "source": [
    "import bdpy \n",
    "\n",
    "data = bdpy.BData('./Subject1.h5')\n"
   ]
  },
  {
   "cell_type": "code",
   "execution_count": 2,
   "metadata": {},
   "outputs": [
    {
     "data": {
      "text/plain": [
       "<bdpy.bdata.bdata.BData at 0x107f97790>"
      ]
     },
     "execution_count": 2,
     "metadata": {},
     "output_type": "execute_result"
    }
   ],
   "source": [
    "data"
   ]
  },
  {
   "cell_type": "code",
   "execution_count": 5,
   "metadata": {},
   "outputs": [
    {
     "name": "stdout",
     "output_type": "stream",
     "text": [
      "| Key            | Description                                                                       |\n",
      "|----------------|-----------------------------------------------------------------------------------|\n",
      "| DataType       | 1 = Data type (1 = Training data; 2 = Perception test data; 3 = Imagery test data |\n",
      "| Run            | 1 = Run number                                                                    |\n",
      "| Label          | 1 = Label (image ID)                                                              |\n",
      "| VoxelData      | 1 = Voxel data                                                                    |\n",
      "| voxel_x        | Voxel x coordinate                                                                |\n",
      "| voxel_y        | Voxel y coordinate                                                                |\n",
      "| voxel_z        | Voxel z coordinate                                                                |\n",
      "| VolInds        | 1 = Volume index                                                                  |\n",
      "| ROI_V1         | 1 = ROI V1                                                                        |\n",
      "| ROI_V2         | 1 = ROI V2                                                                        |\n",
      "| ROI_V3         | 1 = ROI V3                                                                        |\n",
      "| ROI_V4         | 1 = ROI V4                                                                        |\n",
      "| ROI_LOC        | 1 = ROI LOC                                                                       |\n",
      "| ROI_FFA        | 1 = ROI FFA                                                                       |\n",
      "| ROI_PPA        | 1 = ROI PPA                                                                       |\n",
      "| ROI_LVC        | 1 = ROI LVC                                                                       |\n",
      "| ROI_HVC        | 1 = ROI HVC                                                                       |\n",
      "| ROI_VC         | 1 = ROI VC                                                                        |\n",
      "| stimulus_id    |                                                                                   |\n",
      "| category_index |                                                                                   |\n",
      "| image_index    |                                                                                   |\n"
     ]
    }
   ],
   "source": [
    "data.show_metadata()"
   ]
  },
  {
   "cell_type": "code",
   "execution_count": 54,
   "metadata": {},
   "outputs": [
    {
     "data": {
      "text/plain": [
       "array([[ 41.],\n",
       "       [ 18.],\n",
       "       [127.],\n",
       "       ...,\n",
       "       [  4.],\n",
       "       [ 42.],\n",
       "       [ 24.]])"
      ]
     },
     "execution_count": 54,
     "metadata": {},
     "output_type": "execute_result"
    }
   ],
   "source": [
    "data.select('category_index')"
   ]
  },
  {
   "cell_type": "code",
   "execution_count": 49,
   "metadata": {},
   "outputs": [],
   "source": [
    "train_indexes = dt == 1\n",
    "test_indexes = dt == 2\n",
    "fmri_data = np.array(data.select('ROI*'))\n",
    "train_data = fmri_data[train_indexes[:, 0], :]\n",
    "test_data = fmri_data[test_indexes[:, 0], :]"
   ]
  },
  {
   "cell_type": "code",
   "execution_count": 58,
   "metadata": {},
   "outputs": [
    {
     "data": {
      "text/plain": [
       "array([[2.76653402e+06, 4.10000000e+01, 3.24000000e+02],\n",
       "       [1.97016403e+06, 1.80000000e+01, 1.34000000e+02],\n",
       "       [4.37687601e+06, 1.27000000e+02, 1.01100000e+03],\n",
       "       ...,\n",
       "       [1.84633102e+06, 4.00000000e+00, 4.00000000e+00],\n",
       "       [4.21012001e+06, 4.20000000e+01, 4.20000000e+01],\n",
       "       [3.12229503e+06, 2.40000000e+01, 2.40000000e+01]])"
      ]
     },
     "execution_count": 58,
     "metadata": {},
     "output_type": "execute_result"
    }
   ],
   "source": [
    "np.array(data.select('Label'))"
   ]
  },
  {
   "cell_type": "code",
   "execution_count": 60,
   "metadata": {},
   "outputs": [
    {
     "data": {
      "text/plain": [
       "(1200,)"
      ]
     },
     "execution_count": 60,
     "metadata": {},
     "output_type": "execute_result"
    }
   ],
   "source": [
    "train_ids = np.array(data.select('Label'))[:, 0]\n",
    "train_ids = train_ids[train_indexes[:, 0]]\n",
    "train_ids.shape"
   ]
  },
  {
   "cell_type": "code",
   "execution_count": 62,
   "metadata": {},
   "outputs": [
    {
     "data": {
      "text/html": [
       "<div>\n",
       "<style scoped>\n",
       "    .dataframe tbody tr th:only-of-type {\n",
       "        vertical-align: middle;\n",
       "    }\n",
       "\n",
       "    .dataframe tbody tr th {\n",
       "        vertical-align: top;\n",
       "    }\n",
       "\n",
       "    .dataframe thead th {\n",
       "        text-align: right;\n",
       "    }\n",
       "</style>\n",
       "<table border=\"1\" class=\"dataframe\">\n",
       "  <thead>\n",
       "    <tr style=\"text-align: right;\">\n",
       "      <th></th>\n",
       "      <th>0</th>\n",
       "      <th>1</th>\n",
       "    </tr>\n",
       "  </thead>\n",
       "  <tbody>\n",
       "    <tr>\n",
       "      <th>0</th>\n",
       "      <td>1.518878e+06</td>\n",
       "      <td>n01518878_10042.JPEG</td>\n",
       "    </tr>\n",
       "    <tr>\n",
       "      <th>1</th>\n",
       "      <td>1.518878e+06</td>\n",
       "      <td>n01518878_12028.JPEG</td>\n",
       "    </tr>\n",
       "    <tr>\n",
       "      <th>2</th>\n",
       "      <td>1.518878e+06</td>\n",
       "      <td>n01518878_14075.JPEG</td>\n",
       "    </tr>\n",
       "    <tr>\n",
       "      <th>3</th>\n",
       "      <td>1.518878e+06</td>\n",
       "      <td>n01518878_14910.JPEG</td>\n",
       "    </tr>\n",
       "    <tr>\n",
       "      <th>4</th>\n",
       "      <td>1.518878e+06</td>\n",
       "      <td>n01518878_5958.JPEG</td>\n",
       "    </tr>\n",
       "    <tr>\n",
       "      <th>...</th>\n",
       "      <td>...</td>\n",
       "      <td>...</td>\n",
       "    </tr>\n",
       "    <tr>\n",
       "      <th>1195</th>\n",
       "      <td>1.311188e+07</td>\n",
       "      <td>n13111881_28475.JPEG</td>\n",
       "    </tr>\n",
       "    <tr>\n",
       "      <th>1196</th>\n",
       "      <td>1.311188e+07</td>\n",
       "      <td>n13111881_6054.JPEG</td>\n",
       "    </tr>\n",
       "    <tr>\n",
       "      <th>1197</th>\n",
       "      <td>1.311188e+07</td>\n",
       "      <td>n13111881_6560.JPEG</td>\n",
       "    </tr>\n",
       "    <tr>\n",
       "      <th>1198</th>\n",
       "      <td>1.311188e+07</td>\n",
       "      <td>n13111881_7817.JPEG</td>\n",
       "    </tr>\n",
       "    <tr>\n",
       "      <th>1199</th>\n",
       "      <td>1.311188e+07</td>\n",
       "      <td>n13111881_9170.JPEG</td>\n",
       "    </tr>\n",
       "  </tbody>\n",
       "</table>\n",
       "<p>1200 rows × 2 columns</p>\n",
       "</div>"
      ],
      "text/plain": [
       "                 0                     1\n",
       "0     1.518878e+06  n01518878_10042.JPEG\n",
       "1     1.518878e+06  n01518878_12028.JPEG\n",
       "2     1.518878e+06  n01518878_14075.JPEG\n",
       "3     1.518878e+06  n01518878_14910.JPEG\n",
       "4     1.518878e+06   n01518878_5958.JPEG\n",
       "...            ...                   ...\n",
       "1195  1.311188e+07  n13111881_28475.JPEG\n",
       "1196  1.311188e+07   n13111881_6054.JPEG\n",
       "1197  1.311188e+07   n13111881_6560.JPEG\n",
       "1198  1.311188e+07   n13111881_7817.JPEG\n",
       "1199  1.311188e+07   n13111881_9170.JPEG\n",
       "\n",
       "[1200 rows x 2 columns]"
      ]
     },
     "execution_count": 62,
     "metadata": {},
     "output_type": "execute_result"
    }
   ],
   "source": [
    "import pandas as pd \n",
    "img_ids = pd.read_csv('./image_training_id.csv', header=None)"
   ]
  },
  {
   "cell_type": "code",
   "execution_count": 64,
   "metadata": {},
   "outputs": [
    {
     "data": {
      "text/html": [
       "<div>\n",
       "<style scoped>\n",
       "    .dataframe tbody tr th:only-of-type {\n",
       "        vertical-align: middle;\n",
       "    }\n",
       "\n",
       "    .dataframe tbody tr th {\n",
       "        vertical-align: top;\n",
       "    }\n",
       "\n",
       "    .dataframe thead th {\n",
       "        text-align: right;\n",
       "    }\n",
       "</style>\n",
       "<table border=\"1\" class=\"dataframe\">\n",
       "  <thead>\n",
       "    <tr style=\"text-align: right;\">\n",
       "      <th></th>\n",
       "      <th>0</th>\n",
       "      <th>1</th>\n",
       "    </tr>\n",
       "  </thead>\n",
       "  <tbody>\n",
       "    <tr>\n",
       "      <th>176</th>\n",
       "      <td>2.090827e+06</td>\n",
       "      <td>n02090827_10084.JPEG</td>\n",
       "    </tr>\n",
       "  </tbody>\n",
       "</table>\n",
       "</div>"
      ],
      "text/plain": [
       "                0                     1\n",
       "176  2.090827e+06  n02090827_10084.JPEG"
      ]
     },
     "execution_count": 64,
     "metadata": {},
     "output_type": "execute_result"
    }
   ],
   "source": [
    "img_ids[img_ids[0] == train_ids[10]]"
   ]
  },
  {
   "cell_type": "code",
   "execution_count": 51,
   "metadata": {},
   "outputs": [
    {
     "data": {
      "text/plain": [
       "(1750, 4466)"
      ]
     },
     "execution_count": 51,
     "metadata": {},
     "output_type": "execute_result"
    }
   ],
   "source": [
    "test_data.shape"
   ]
  },
  {
   "cell_type": "code",
   "execution_count": 40,
   "metadata": {},
   "outputs": [
    {
     "data": {
      "text/plain": [
       "(1750,)"
      ]
     },
     "execution_count": 40,
     "metadata": {},
     "output_type": "execute_result"
    }
   ],
   "source": [
    "dt = np.array(data.select('DataType'))\n",
    "dt[dt == 2].shape"
   ]
  },
  {
   "cell_type": "code",
   "execution_count": 6,
   "metadata": {},
   "outputs": [],
   "source": [
    "voxel_x = data.get_metadata('voxel_x', where='VoxelData')"
   ]
  },
  {
   "cell_type": "code",
   "execution_count": 29,
   "metadata": {},
   "outputs": [
    {
     "data": {
      "text/plain": [
       "array([nan, nan, nan, ..., nan, nan, nan])"
      ]
     },
     "execution_count": 29,
     "metadata": {},
     "output_type": "execute_result"
    }
   ],
   "source": [
    "vols = data.get_metadata('VolInds', where='VoxelData')"
   ]
  },
  {
   "cell_type": "code",
   "execution_count": 33,
   "metadata": {},
   "outputs": [
    {
     "data": {
      "text/plain": [
       "(125,)"
      ]
     },
     "execution_count": 33,
     "metadata": {},
     "output_type": "execute_result"
    }
   ],
   "source": [
    "run = np.array(data.select('Run'))\n",
    "run[run == 5].shape"
   ]
  },
  {
   "cell_type": "code",
   "execution_count": 25,
   "metadata": {},
   "outputs": [
    {
     "data": {
      "text/plain": [
       "(4466,)"
      ]
     },
     "execution_count": 25,
     "metadata": {},
     "output_type": "execute_result"
    }
   ],
   "source": [
    "voxel_x.shape"
   ]
  },
  {
   "cell_type": "code",
   "execution_count": 18,
   "metadata": {},
   "outputs": [],
   "source": [
    "labels = data.get_metadata('Label', where='VoxelData')"
   ]
  },
  {
   "cell_type": "code",
   "execution_count": 26,
   "metadata": {},
   "outputs": [
    {
     "data": {
      "text/plain": [
       "(3450, 1004)"
      ]
     },
     "execution_count": 26,
     "metadata": {},
     "output_type": "execute_result"
    }
   ],
   "source": [
    "np.array(data.select('ROI_V1')).shape"
   ]
  },
  {
   "cell_type": "code",
   "execution_count": 27,
   "metadata": {},
   "outputs": [
    {
     "data": {
      "text/plain": [
       "(3450, 3)"
      ]
     },
     "execution_count": 27,
     "metadata": {},
     "output_type": "execute_result"
    }
   ],
   "source": [
    "np.array(data.select('Label')).shape\n"
   ]
  },
  {
   "cell_type": "code",
   "execution_count": 96,
   "metadata": {},
   "outputs": [
    {
     "data": {
      "text/plain": [
       "[323, 133, 1010, 933]"
      ]
     },
     "execution_count": 96,
     "metadata": {},
     "output_type": "execute_result"
    }
   ],
   "source": [
    "[img_ids.set_index(0, drop=True).index.get_loc(train_ids[i]) for i in range(4)]\n",
    "\n",
    "\n",
    "# img_ids"
   ]
  }
 ],
 "metadata": {
  "kernelspec": {
   "display_name": "dl_proj",
   "language": "python",
   "name": "python3"
  },
  "language_info": {
   "codemirror_mode": {
    "name": "ipython",
    "version": 3
   },
   "file_extension": ".py",
   "mimetype": "text/x-python",
   "name": "python",
   "nbconvert_exporter": "python",
   "pygments_lexer": "ipython3",
   "version": "3.11.8"
  }
 },
 "nbformat": 4,
 "nbformat_minor": 2
}
